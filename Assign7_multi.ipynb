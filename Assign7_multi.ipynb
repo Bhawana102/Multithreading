{
  "nbformat": 4,
  "nbformat_minor": 0,
  "metadata": {
    "colab": {
      "provenance": [],
      "authorship_tag": "ABX9TyOKPtiZ7XvjCwQFTBUO+TzV",
      "include_colab_link": true
    },
    "kernelspec": {
      "name": "python3",
      "display_name": "Python 3"
    },
    "language_info": {
      "name": "python"
    }
  },
  "cells": [
    {
      "cell_type": "markdown",
      "metadata": {
        "id": "view-in-github",
        "colab_type": "text"
      },
      "source": [
        "<a href=\"https://colab.research.google.com/github/Bhawana102/Multithreading/blob/main/Assign7_multi.ipynb\" target=\"_parent\"><img src=\"https://colab.research.google.com/assets/colab-badge.svg\" alt=\"Open In Colab\"/></a>"
      ]
    },
    {
      "cell_type": "code",
      "execution_count": null,
      "metadata": {
        "id": "YCSdBl_nn8qH"
      },
      "outputs": [],
      "source": [
        "import numpy as np\n",
        "import matplotlib.pyplot as plt\n",
        "import threading\n",
        "import time\n",
        "import psutil\n",
        "\n",
        "\n",
        "def multiply_matrices(matrix1, matrix2):\n",
        "    return np.matmul(matrix1, matrix2)\n",
        "\n",
        "\n",
        "constant_matrix = np.random.rand(1000, 1000)\n",
        "\n",
        "random_matrices = [np.random.rand(1000, 1000) for _ in range(100)]"
      ]
    },
    {
      "cell_type": "code",
      "source": [
        "def worker(thread_id, matrices, results):\n",
        "    for matrix in matrices:\n",
        "        result = multiply_matrices(matrix, constant_matrix)\n",
        "        results.append(result)\n",
        "    print(f\"Thread {thread_id} finished\")\n",
        "\n",
        "def run_multithreaded(num_threads):\n",
        "    threads = []\n",
        "    results = []\n",
        "    chunk_size = len(random_matrices) // num_threads\n",
        "    for i in range(num_threads):\n",
        "        start = i * chunk_size\n",
        "        end = (i + 1) * chunk_size if i != num_threads - 1 else len(random_matrices)\n",
        "        t = threading.Thread(target=worker, args=(i + 1, random_matrices[start:end], results))\n",
        "        threads.append(t)\n",
        "        t.start()\n",
        "    for t in threads:\n",
        "        t.join()\n",
        "    return results, threads"
      ],
      "metadata": {
        "id": "LKWfUlq5oA6Y"
      },
      "execution_count": null,
      "outputs": []
    },
    {
      "cell_type": "code",
      "source": [
        "execution_times = []\n",
        "thread_names = []\n",
        "for num_threads in range(1, 9):\n",
        "    start_time = time.time()\n",
        "    results, threads = run_multithreaded(num_threads)\n",
        "    end_time = time.time()\n",
        "    execution_times.append(end_time - start_time)\n",
        "    thread_names.extend([f\"Thread {t.name}\" for t in threads])\n",
        "\n",
        "print(\"\\nThread Name\\tTime Taken (seconds)\")\n",
        "for thread_name, time_taken in zip(thread_names, execution_times):\n",
        "    print(f\"{thread_name}\\t\\t{time_taken:.2f}\")"
      ],
      "metadata": {
        "id": "FcZSHHG4oBj-"
      },
      "execution_count": null,
      "outputs": []
    },
    {
      "cell_type": "code",
      "source": [
        "plt.figure(figsize=(8, 6))\n",
        "plt.plot(range(1, 9), execution_times, marker='o')\n",
        "plt.xlabel(\"Number of Threads\")\n",
        "plt.ylabel(\"Time Taken\")\n",
        "plt.title(\"Execution Time\")\n",
        "plt.show()"
      ],
      "metadata": {
        "id": "RMbRT-YWoFUo"
      },
      "execution_count": null,
      "outputs": []
    },
    {
      "cell_type": "code",
      "source": [
        "cpu_usages = []\n",
        "for num_threads in range(1, 9):\n",
        "    cpu_usage = psutil.cpu_percent(interval=1, percpu=True)\n",
        "    num_cpus = len(cpu_usage)\n",
        "    if num_threads > num_cpus:\n",
        "        cpu_usage = cpu_usage + [0] * (num_threads - num_cpus)\n",
        "    cpu_usages.append(cpu_usage)\n",
        "\n",
        "print(\"CPU Usage (%) for different threads:\")\n",
        "for i, usage in enumerate(cpu_usages):\n",
        "    print(f\"Threads: {i + 1}, CPU Usage: {usage}\")\n",
        "\n",
        "plt.figure(figsize=(8, 6))\n",
        "thread_counts = range(1, 9)\n",
        "num_cpus = psutil.cpu_count()\n",
        "x = np.arange(len(thread_counts))\n",
        "colors = plt.cm.tab10(np.linspace(0, 1, num_cpus))\n",
        "\n",
        "for cpu in range(num_cpus):\n",
        "    cpu_data = [usage[cpu] for usage in cpu_usages]\n",
        "    plt.plot(x, cpu_data, color=colors[cpu], label=f'CPU {cpu}')\n",
        "    plt.fill_between(x, cpu_data, alpha=0.3, color=colors[cpu])\n",
        "\n",
        "plt.xlabel(\"Number of Threads\")\n",
        "plt.ylabel(\"CPU Usage (%)\")\n",
        "plt.title(\"CPU Usage vs Number of Threads\")\n",
        "plt.xticks(x, thread_counts)\n",
        "plt.legend()\n",
        "plt.show()"
      ],
      "metadata": {
        "id": "iA-5QyPioHrd"
      },
      "execution_count": null,
      "outputs": []
    }
  ]
}